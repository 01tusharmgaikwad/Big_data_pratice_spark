{
  "nbformat": 4,
  "nbformat_minor": 0,
  "metadata": {
    "colab": {
      "provenance": [],
      "authorship_tag": "ABX9TyN0h3K9ZcTfpHPB+E6LkJiR",
      "include_colab_link": true
    },
    "kernelspec": {
      "name": "python3",
      "display_name": "Python 3"
    },
    "language_info": {
      "name": "python"
    }
  },
  "cells": [
    {
      "cell_type": "markdown",
      "metadata": {
        "id": "view-in-github",
        "colab_type": "text"
      },
      "source": [
        "<a href=\"https://colab.research.google.com/github/01tusharmgaikwad/Big_data_pratice_spark/blob/main/Untitled15.ipynb\" target=\"_parent\"><img src=\"https://colab.research.google.com/assets/colab-badge.svg\" alt=\"Open In Colab\"/></a>"
      ]
    },
    {
      "cell_type": "code",
      "source": [
        "pip install pyspark\n"
      ],
      "metadata": {
        "colab": {
          "base_uri": "https://localhost:8080/"
        },
        "id": "_6eJdcD80OAH",
        "outputId": "bca6b679-cb95-4c81-88f2-d87331053a45"
      },
      "execution_count": null,
      "outputs": [
        {
          "output_type": "stream",
          "name": "stdout",
          "text": [
            "Collecting pyspark\n",
            "  Downloading pyspark-3.5.3.tar.gz (317.3 MB)\n",
            "\u001b[2K     \u001b[90m━━━━━━━━━━━━━━━━━━━━━━━━━━━━━━━━━━━━━━━━\u001b[0m \u001b[32m317.3/317.3 MB\u001b[0m \u001b[31m1.4 MB/s\u001b[0m eta \u001b[36m0:00:00\u001b[0m\n",
            "\u001b[?25h  Preparing metadata (setup.py) ... \u001b[?25l\u001b[?25hdone\n",
            "Requirement already satisfied: py4j==0.10.9.7 in /usr/local/lib/python3.10/dist-packages (from pyspark) (0.10.9.7)\n",
            "Building wheels for collected packages: pyspark\n",
            "  Building wheel for pyspark (setup.py) ... \u001b[?25l\u001b[?25hdone\n",
            "  Created wheel for pyspark: filename=pyspark-3.5.3-py2.py3-none-any.whl size=317840625 sha256=bc5a38f034ac73f5d1a7dfa52201df2998ae9cd58166a59d6e312d8a25ee636a\n",
            "  Stored in directory: /root/.cache/pip/wheels/1b/3a/92/28b93e2fbfdbb07509ca4d6f50c5e407f48dce4ddbda69a4ab\n",
            "Successfully built pyspark\n",
            "Installing collected packages: pyspark\n",
            "Successfully installed pyspark-3.5.3\n"
          ]
        }
      ]
    },
    {
      "cell_type": "code",
      "execution_count": null,
      "metadata": {
        "id": "PmtUZp_o0AIL"
      },
      "outputs": [],
      "source": [
        "#!/user/bin/python\n",
        "import sys\n",
        "from pyspark.sql import SparkSession\n",
        "spark = SparkSession.builder.appName(\"Spark SQL basic example\").enableHiveSupport().getOrCreate()\n",
        "\n",
        "# On yarn:\n",
        "# spark = SparkSession.builder.appName(\"Spark SQL basic example\").enableHiveSupport().master(\"yarn\").getOrCreate()\n",
        "# specify .master(\"yarn\")\n",
        "\n",
        "sc = spark.sparkContext"
      ]
    },
    {
      "cell_type": "code",
      "source": [
        "rdd=sc.parallelize(range(10))"
      ],
      "metadata": {
        "id": "_kSyHmdY0DSQ"
      },
      "execution_count": null,
      "outputs": []
    },
    {
      "cell_type": "code",
      "source": [
        "rdd.collect()"
      ],
      "metadata": {
        "colab": {
          "base_uri": "https://localhost:8080/"
        },
        "id": "esxnKBjm17yR",
        "outputId": "0da5583b-a0c2-48f5-f8c0-09698c587173"
      },
      "execution_count": null,
      "outputs": [
        {
          "output_type": "execute_result",
          "data": {
            "text/plain": [
              "[0, 1, 2, 3, 4, 5, 6, 7, 8, 9]"
            ]
          },
          "metadata": {},
          "execution_count": 11
        }
      ]
    },
    {
      "cell_type": "code",
      "source": [
        "rdd=sc.textFile('/content/drive/MyDrive/bigdata shortcut/whitehouse_visits.txt')"
      ],
      "metadata": {
        "id": "_k8nmx2J2BAa"
      },
      "execution_count": 13,
      "outputs": []
    },
    {
      "cell_type": "code",
      "source": [
        "rdd.take(5)"
      ],
      "metadata": {
        "colab": {
          "base_uri": "https://localhost:8080/"
        },
        "id": "ziPuDqTa3e-V",
        "outputId": "f19c2d5a-910a-4b35-813e-a5cc95f7d4ec"
      },
      "execution_count": 15,
      "outputs": [
        {
          "output_type": "execute_result",
          "data": {
            "text/plain": [
              "['ADAMS,CHRISTINE,M,U51772,,VA,,,,,10/19/2010 14:21,10/28/2010 8:25,10/28/2010 23:59,,6,DC,WIN,10/19/2010 14:21,DC,ADAMS,,WH,WW,ADAMS,AARON,,1/28/2011,,,,,,,,,,,,,,,,,,,,,,,,,,,,,,,,,,,,,,,,,,,,,,,,,,,,,,,,,,,,,,,,,,,,,,,,,,,,,,,,,,,,,,,,,,,,,,,,,,,,,,,,,,,,,,,,,,,,,,,,,,,,,,,,,,,,,,,,,,,,,,,,,,,,,,,,,,,,,,,,,,,,,,,,,,,,,,,,,,,,,,,,,,,,,,,,,,,,,,,,,,,,,,,,,,,,,,,,,,,,,,,,,,,,,',\n",
              " 'ADAMS,SCHUYLER,N,U51772,,VA,,,,,10/19/2010 14:21,10/28/2010 8:25,10/28/2010 23:59,,6,DC,WIN,10/19/2010 14:21,DC,ADAMS,,WH,WW,ADAMS,AARON,,1/28/2011,,,,,,,,,,,,,,,,,,,,,,,,,,,,,,,,,,,,,,,,,,,,,,,,,,,,,,,,,,,,,,,,,,,,,,,,,,,,,,,,,,,,,,,,,,,,,,,,,,,,,,,,,,,,,,,,,,,,,,,,,,,,,,,,,,,,,,,,,,,,,,,,,,,,,,,,,,,,,,,,,,,,,,,,,,,,,,,,,,,,,,,,,,,,,,,,,,,,,,,,,,,,,,,,,,,,,,,,,,,,,,,,,,,,,',\n",
              " 'MAHER,HELEN,G,U51510,0,VA,10/24/2010 14:53,B0402,,,10/19/2010 7:48,10/24/2010 15:10,10/24/2010 23:59,,6,B3,WIN,10/19/2010 7:48,B3,ADAMS,AARON,WH,WW,ADAMS,AARON,,1/28/2011,,,,,,,,,,,,,,,,,,,,,,,,,,,,,,,,,,,,,,,,,,,,,,,,,,,,,,,,,,,,,,,,,,,,,,,,,,,,,,,,,,,,,,,,,,,,,,,,,,,,,,,,,,,,,,,,,,,,,,,,,,,,,,,,,,,,,,,,,,,,,,,,,,,,,,,,,,,,,,,,,,,,,,,,,,,,,,,,,,,,,,,,,,,,,,,,,,,,,,,,,,,,,,,,,,,,,,,,,,,,,,,,,,,,,',\n",
              " 'MAHER,PATRICK,J,U51510,0,VA,10/24/2010 14:53,B0402,,,10/19/2010 7:48,10/24/2010 15:10,10/24/2010 23:59,,6,B3,WIN,10/19/2010 7:48,B3,ADAMS,AARON,WH,WW,ADAMS,AARON,,1/28/2011,,,,,,,,,,,,,,,,,,,,,,,,,,,,,,,,,,,,,,,,,,,,,,,,,,,,,,,,,,,,,,,,,,,,,,,,,,,,,,,,,,,,,,,,,,,,,,,,,,,,,,,,,,,,,,,,,,,,,,,,,,,,,,,,,,,,,,,,,,,,,,,,,,,,,,,,,,,,,,,,,,,,,,,,,,,,,,,,,,,,,,,,,,,,,,,,,,,,,,,,,,,,,,,,,,,,,,,,,,,,,,,,,,,,,',\n",
              " 'MOORE,JESSICA,L,U51772,,VA,,,,,10/19/2010 14:21,10/28/2010 8:25,10/28/2010 23:59,,6,DC,WIN,10/19/2010 14:21,DC,ADAMS,,WH,WW,ADAMS,AARON,,1/28/2011,,,,,,,,,,,,,,,,,,,,,,,,,,,,,,,,,,,,,,,,,,,,,,,,,,,,,,,,,,,,,,,,,,,,,,,,,,,,,,,,,,,,,,,,,,,,,,,,,,,,,,,,,,,,,,,,,,,,,,,,,,,,,,,,,,,,,,,,,,,,,,,,,,,,,,,,,,,,,,,,,,,,,,,,,,,,,,,,,,,,,,,,,,,,,,,,,,,,,,,,,,,,,,,,,,,,,,,,,,,,,,,,,,,,,']"
            ]
          },
          "metadata": {},
          "execution_count": 15
        }
      ]
    },
    {
      "cell_type": "code",
      "source": [
        "rdd2=rdd.map(lambda x:x.split(','))\n",
        "rdd3=rdd2.filter(lambda x:x[19]=='POTUS')\n",
        "rdd4=rdd3.map(lambda x: (x[0],x[1],x[6],x[11],x[21],x[25]))\n",
        "rdd4.take(2)"
      ],
      "metadata": {
        "colab": {
          "base_uri": "https://localhost:8080/"
        },
        "id": "tB3KNk_N3tPM",
        "outputId": "10faf1c5-1c67-4724-dfbe-e56ba533852a"
      },
      "execution_count": 31,
      "outputs": [
        {
          "output_type": "execute_result",
          "data": {
            "text/plain": [
              "[('BUCKLEY', 'SUMMER', '10/12/2010 14:48', '10/12/2010 14:45', 'WH', ''),\n",
              " ('CLOONEY', 'GEORGE', '10/12/2010 14:47', '10/12/2010 14:45', 'WH', '')]"
            ]
          },
          "metadata": {},
          "execution_count": 31
        }
      ]
    },
    {
      "cell_type": "code",
      "source": [
        "rdd5=rdd4.map(lambda x:','.join(x))\n",
        "rdd5.take(5)\n",
        "\n"
      ],
      "metadata": {
        "colab": {
          "base_uri": "https://localhost:8080/"
        },
        "id": "NQRPvUUt6Jyy",
        "outputId": "db884ea4-90ec-45eb-d949-533365bf1a47"
      },
      "execution_count": 32,
      "outputs": [
        {
          "output_type": "execute_result",
          "data": {
            "text/plain": [
              "['BUCKLEY,SUMMER,10/12/2010 14:48,10/12/2010 14:45,WH,',\n",
              " 'CLOONEY,GEORGE,10/12/2010 14:47,10/12/2010 14:45,WH,',\n",
              " 'PRENDERGAST,JOHN,10/12/2010 14:48,10/12/2010 14:45,WH,',\n",
              " 'LANIER,JAZMIN,,10/13/2010 13:00,WH,BILL SIGNING/',\n",
              " 'MAYNARD,ELIZABETH,10/13/2010 12:34,10/13/2010 13:00,WH,BILL SIGNING/']"
            ]
          },
          "metadata": {},
          "execution_count": 32
        }
      ]
    },
    {
      "cell_type": "code",
      "source": [],
      "metadata": {
        "id": "bdopNkeG6ybk"
      },
      "execution_count": 34,
      "outputs": []
    }
  ]
}